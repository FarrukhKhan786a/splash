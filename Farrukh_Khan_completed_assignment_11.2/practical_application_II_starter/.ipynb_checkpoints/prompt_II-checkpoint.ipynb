{
 "cells": [
  {
   "cell_type": "markdown",
   "metadata": {},
   "source": [
    "# \n",
    "\n",
    "\n",
    "What drives the price of a car?\n",
    "\n",
    "![](images/kurt.jpeg)"
   ]
  },
  {
   "cell_type": "markdown",
   "metadata": {},
   "source": [
    "**OVERVIEW**\n",
    "\n",
    "In this application, you will explore a dataset from kaggle. The original dataset contained information on 3 million used cars. The provided dataset contains information on 426K cars to ensure speed of processing.  Your goal is to understand what factors make a car more or less expensive.  As a result of your analysis, you should provide clear recommendations to your client -- a used car dealership -- as to what consumers value in a used car."
   ]
  },
  {
   "cell_type": "markdown",
   "metadata": {},
   "source": [
    "### CRISP-DM Framework\n",
    "\n",
    "<center>\n",
    "    <img src = images/crisp.png width = 50%/>\n",
    "</center>\n",
    "\n",
    "\n",
    "To frame the task, throughout our practical applications we will refer back to a standard process in industry for data projects called CRISP-DM.  This process provides a framework for working through a data problem.  Your first step in this application will be to read through a brief overview of CRISP-DM [here](https://mo-pcco.s3.us-east-1.amazonaws.com/BH-PCMLAI/module_11/readings_starter.zip).  After reading the overview, answer the questions below."
   ]
  },
  {
   "cell_type": "markdown",
   "metadata": {},
   "source": [
    "### Business Understanding\n",
    "\n",
    "From a business perspective, we are tasked with identifying key drivers for used car prices.  In the CRISP-DM overview, we are asked to convert this business framing to a data problem definition.  Using a few sentences, reframe the task as a data task with the appropriate technical vocabulary. "
   ]
  },
  {
   "cell_type": "code",
   "execution_count": 17,
   "metadata": {},
   "outputs": [
    {
     "data": {
      "text/plain": [
       "' From a data perspective, the task involves developing a predictive model to identify and quantify the key features that significantly impact \\nthe price of used cars. This will involve selecting relevant variables (e.g., vehicle age, mileage, manufacturer, condition) and applying statistical\\nand machine learning techniques to model the relationship between these features and the car prices. The goal is to determine which attributes are \\nthe most influential in predicting car prices, thereby providing actionable insights for optimizing inventory and pricing strategies. '"
      ]
     },
     "execution_count": 17,
     "metadata": {},
     "output_type": "execute_result"
    }
   ],
   "source": [
    "''' From a data perspective, the task involves developing a predictive model to identify and quantify the key features that significantly impact \n",
    "the price of used cars. This will involve selecting relevant variables (e.g., vehicle age, mileage, manufacturer, condition) and applying statistical\n",
    "and machine learning techniques to model the relationship between these features and the car prices. The goal is to determine which attributes are \n",
    "the most influential in predicting car prices, thereby providing actionable insights for optimizing inventory and pricing strategies. '''"
   ]
  },
  {
   "cell_type": "code",
   "execution_count": 18,
   "metadata": {},
   "outputs": [],
   "source": [
    "import pandas as pd\n",
    "df = pd.read_csv('C:/Users/Farru/Downloads/practical_application_II_starter/data/vehicles.csv')"
   ]
  },
  {
   "cell_type": "markdown",
   "metadata": {},
   "source": [
    "### Data Understanding\n",
    "\n",
    "After considering the business understanding, we want to get familiar with our data.  Write down some steps that you would take to get to know the dataset and identify any quality issues within.  Take time to get to know the dataset and explore what information it contains and how this could be used to inform your business understanding."
   ]
  },
  {
   "cell_type": "code",
   "execution_count": 19,
   "metadata": {},
   "outputs": [
    {
     "name": "stdout",
     "output_type": "stream",
     "text": [
      "<class 'pandas.core.frame.DataFrame'>\n"
     ]
    }
   ],
   "source": [
    "# DataFrame is a two-dimensional, size-mutable, and heterogeneous tabular data structure with labeled axes (rows and columns).\n",
    "print(type(df))"
   ]
  },
  {
   "cell_type": "code",
   "execution_count": 20,
   "metadata": {},
   "outputs": [
    {
     "name": "stdout",
     "output_type": "stream",
     "text": [
      "Index(['id', 'region', 'price', 'year', 'manufacturer', 'model', 'condition',\n",
      "       'cylinders', 'fuel', 'odometer', 'title_status', 'transmission', 'VIN',\n",
      "       'drive', 'size', 'type', 'paint_color', 'state'],\n",
      "      dtype='object')\n"
     ]
    }
   ],
   "source": [
    "# DataFrame with columns names\n",
    "print(df.columns)"
   ]
  },
  {
   "cell_type": "code",
   "execution_count": 21,
   "metadata": {},
   "outputs": [
    {
     "name": "stdout",
     "output_type": "stream",
     "text": [
      "<class 'pandas.core.frame.DataFrame'>\n",
      "RangeIndex: 426880 entries, 0 to 426879\n",
      "Data columns (total 18 columns):\n",
      " #   Column        Non-Null Count   Dtype  \n",
      "---  ------        --------------   -----  \n",
      " 0   id            426880 non-null  int64  \n",
      " 1   region        426880 non-null  object \n",
      " 2   price         426880 non-null  int64  \n",
      " 3   year          425675 non-null  float64\n",
      " 4   manufacturer  409234 non-null  object \n",
      " 5   model         421603 non-null  object \n",
      " 6   condition     252776 non-null  object \n",
      " 7   cylinders     249202 non-null  object \n",
      " 8   fuel          423867 non-null  object \n",
      " 9   odometer      422480 non-null  float64\n",
      " 10  title_status  418638 non-null  object \n",
      " 11  transmission  424324 non-null  object \n",
      " 12  VIN           265838 non-null  object \n",
      " 13  drive         296313 non-null  object \n",
      " 14  size          120519 non-null  object \n",
      " 15  type          334022 non-null  object \n",
      " 16  paint_color   296677 non-null  object \n",
      " 17  state         426880 non-null  object \n",
      "dtypes: float64(2), int64(2), object(14)\n",
      "memory usage: 58.6+ MB\n"
     ]
    }
   ],
   "source": [
    "# DataFrame Index length, columns names, data type, quantity of each data type & memory usage by DataFrame \n",
    "df.info()"
   ]
  },
  {
   "cell_type": "code",
   "execution_count": 22,
   "metadata": {},
   "outputs": [
    {
     "name": "stdout",
     "output_type": "stream",
     "text": [
      "                id                  region  price    year manufacturer  \\\n",
      "0       7222695916                prescott   6000     NaN          NaN   \n",
      "1       7218891961            fayetteville  11900     NaN          NaN   \n",
      "2       7221797935            florida keys  21000     NaN          NaN   \n",
      "3       7222270760  worcester / central MA   1500     NaN          NaN   \n",
      "4       7210384030              greensboro   4900     NaN          NaN   \n",
      "...            ...                     ...    ...     ...          ...   \n",
      "426875  7301591192                 wyoming  23590  2019.0       nissan   \n",
      "426876  7301591187                 wyoming  30590  2020.0        volvo   \n",
      "426877  7301591147                 wyoming  34990  2020.0     cadillac   \n",
      "426878  7301591140                 wyoming  28990  2018.0        lexus   \n",
      "426879  7301591129                 wyoming  30590  2019.0          bmw   \n",
      "\n",
      "                           model condition    cylinders    fuel  odometer  \\\n",
      "0                            NaN       NaN          NaN     NaN       NaN   \n",
      "1                            NaN       NaN          NaN     NaN       NaN   \n",
      "2                            NaN       NaN          NaN     NaN       NaN   \n",
      "3                            NaN       NaN          NaN     NaN       NaN   \n",
      "4                            NaN       NaN          NaN     NaN       NaN   \n",
      "...                          ...       ...          ...     ...       ...   \n",
      "426875         maxima s sedan 4d      good  6 cylinders     gas   32226.0   \n",
      "426876  s60 t5 momentum sedan 4d      good          NaN     gas   12029.0   \n",
      "426877          xt4 sport suv 4d      good          NaN  diesel    4174.0   \n",
      "426878           es 350 sedan 4d      good  6 cylinders     gas   30112.0   \n",
      "426879  4 series 430i gran coupe      good          NaN     gas   22716.0   \n",
      "\n",
      "       title_status transmission                VIN drive size       type  \\\n",
      "0               NaN          NaN                NaN   NaN  NaN        NaN   \n",
      "1               NaN          NaN                NaN   NaN  NaN        NaN   \n",
      "2               NaN          NaN                NaN   NaN  NaN        NaN   \n",
      "3               NaN          NaN                NaN   NaN  NaN        NaN   \n",
      "4               NaN          NaN                NaN   NaN  NaN        NaN   \n",
      "...             ...          ...                ...   ...  ...        ...   \n",
      "426875        clean        other  1N4AA6AV6KC367801   fwd  NaN      sedan   \n",
      "426876        clean        other  7JR102FKXLG042696   fwd  NaN      sedan   \n",
      "426877        clean        other  1GYFZFR46LF088296   NaN  NaN  hatchback   \n",
      "426878        clean        other  58ABK1GG4JU103853   fwd  NaN      sedan   \n",
      "426879        clean        other  WBA4J1C58KBM14708   rwd  NaN      coupe   \n",
      "\n",
      "       paint_color state  \n",
      "0              NaN    az  \n",
      "1              NaN    ar  \n",
      "2              NaN    fl  \n",
      "3              NaN    ma  \n",
      "4              NaN    nc  \n",
      "...            ...   ...  \n",
      "426875         NaN    wy  \n",
      "426876         red    wy  \n",
      "426877       white    wy  \n",
      "426878      silver    wy  \n",
      "426879         NaN    wy  \n",
      "\n",
      "[426880 rows x 18 columns]\n"
     ]
    }
   ],
   "source": [
    "# Display first 5 rows. There are [426880 rows x 18 columns in df Dataframe\n",
    "print(df)"
   ]
  },
  {
   "cell_type": "code",
   "execution_count": 23,
   "metadata": {},
   "outputs": [
    {
     "data": {
      "text/html": [
       "<div>\n",
       "<style scoped>\n",
       "    .dataframe tbody tr th:only-of-type {\n",
       "        vertical-align: middle;\n",
       "    }\n",
       "\n",
       "    .dataframe tbody tr th {\n",
       "        vertical-align: top;\n",
       "    }\n",
       "\n",
       "    .dataframe thead th {\n",
       "        text-align: right;\n",
       "    }\n",
       "</style>\n",
       "<table border=\"1\" class=\"dataframe\">\n",
       "  <thead>\n",
       "    <tr style=\"text-align: right;\">\n",
       "      <th></th>\n",
       "      <th>id</th>\n",
       "      <th>price</th>\n",
       "      <th>year</th>\n",
       "      <th>odometer</th>\n",
       "    </tr>\n",
       "  </thead>\n",
       "  <tbody>\n",
       "    <tr>\n",
       "      <th>count</th>\n",
       "      <td>4.268800e+05</td>\n",
       "      <td>4.268800e+05</td>\n",
       "      <td>425675.000000</td>\n",
       "      <td>4.224800e+05</td>\n",
       "    </tr>\n",
       "    <tr>\n",
       "      <th>mean</th>\n",
       "      <td>7.311487e+09</td>\n",
       "      <td>7.519903e+04</td>\n",
       "      <td>2011.235191</td>\n",
       "      <td>9.804333e+04</td>\n",
       "    </tr>\n",
       "    <tr>\n",
       "      <th>std</th>\n",
       "      <td>4.473170e+06</td>\n",
       "      <td>1.218228e+07</td>\n",
       "      <td>9.452120</td>\n",
       "      <td>2.138815e+05</td>\n",
       "    </tr>\n",
       "    <tr>\n",
       "      <th>min</th>\n",
       "      <td>7.207408e+09</td>\n",
       "      <td>0.000000e+00</td>\n",
       "      <td>1900.000000</td>\n",
       "      <td>0.000000e+00</td>\n",
       "    </tr>\n",
       "    <tr>\n",
       "      <th>25%</th>\n",
       "      <td>7.308143e+09</td>\n",
       "      <td>5.900000e+03</td>\n",
       "      <td>2008.000000</td>\n",
       "      <td>3.770400e+04</td>\n",
       "    </tr>\n",
       "    <tr>\n",
       "      <th>50%</th>\n",
       "      <td>7.312621e+09</td>\n",
       "      <td>1.395000e+04</td>\n",
       "      <td>2013.000000</td>\n",
       "      <td>8.554800e+04</td>\n",
       "    </tr>\n",
       "    <tr>\n",
       "      <th>75%</th>\n",
       "      <td>7.315254e+09</td>\n",
       "      <td>2.648575e+04</td>\n",
       "      <td>2017.000000</td>\n",
       "      <td>1.335425e+05</td>\n",
       "    </tr>\n",
       "    <tr>\n",
       "      <th>max</th>\n",
       "      <td>7.317101e+09</td>\n",
       "      <td>3.736929e+09</td>\n",
       "      <td>2022.000000</td>\n",
       "      <td>1.000000e+07</td>\n",
       "    </tr>\n",
       "  </tbody>\n",
       "</table>\n",
       "</div>"
      ],
      "text/plain": [
       "                 id         price           year      odometer\n",
       "count  4.268800e+05  4.268800e+05  425675.000000  4.224800e+05\n",
       "mean   7.311487e+09  7.519903e+04    2011.235191  9.804333e+04\n",
       "std    4.473170e+06  1.218228e+07       9.452120  2.138815e+05\n",
       "min    7.207408e+09  0.000000e+00    1900.000000  0.000000e+00\n",
       "25%    7.308143e+09  5.900000e+03    2008.000000  3.770400e+04\n",
       "50%    7.312621e+09  1.395000e+04    2013.000000  8.554800e+04\n",
       "75%    7.315254e+09  2.648575e+04    2017.000000  1.335425e+05\n",
       "max    7.317101e+09  3.736929e+09    2022.000000  1.000000e+07"
      ]
     },
     "execution_count": 23,
     "metadata": {},
     "output_type": "execute_result"
    }
   ],
   "source": [
    "# Shows columns min, max, count...etc.\n",
    "df.describe()\n",
    "# There is price '0' which doesn't sense\n",
    "# Years have 6 digit after decimal\n",
    "# There are columns like 'id' and 'VIN' which are not needed for this analysis"
   ]
  },
  {
   "cell_type": "code",
   "execution_count": 24,
   "metadata": {},
   "outputs": [
    {
     "name": "stdout",
     "output_type": "stream",
     "text": [
      "Number of duplicate rows: 0\n"
     ]
    }
   ],
   "source": [
    "# 2. Check for duplicates\n",
    "print(f\"Number of duplicate rows: {df.duplicated().sum()}\")"
   ]
  },
  {
   "cell_type": "code",
   "execution_count": 25,
   "metadata": {},
   "outputs": [
    {
     "name": "stdout",
     "output_type": "stream",
     "text": [
      "id                int64\n",
      "region           object\n",
      "price             int64\n",
      "year            float64\n",
      "manufacturer     object\n",
      "model            object\n",
      "condition        object\n",
      "cylinders        object\n",
      "fuel             object\n",
      "odometer        float64\n",
      "title_status     object\n",
      "transmission     object\n",
      "VIN              object\n",
      "drive            object\n",
      "size             object\n",
      "type             object\n",
      "paint_color      object\n",
      "state            object\n",
      "dtype: object\n"
     ]
    }
   ],
   "source": [
    "# 3. Check data types\n",
    "print(df.dtypes)"
   ]
  },
  {
   "cell_type": "markdown",
   "metadata": {},
   "source": [
    "### Data Preparation\n",
    "\n",
    "After our initial exploration and fine tuning of the business understanding, it is time to construct our final dataset prior to modeling.  Here, we want to make sure to handle any integrity issues and cleaning, the engineering of new features, any transformations that we believe should happen (scaling, logarithms, normalization, etc.), and general preparation for modeling with `sklearn`. "
   ]
  },
  {
   "cell_type": "code",
   "execution_count": 26,
   "metadata": {},
   "outputs": [],
   "source": [
    "# Remove NAN values\n",
    "df = df.dropna()"
   ]
  },
  {
   "cell_type": "code",
   "execution_count": 28,
   "metadata": {},
   "outputs": [
    {
     "name": "stdout",
     "output_type": "stream",
     "text": [
      "id              0\n",
      "region          0\n",
      "price           0\n",
      "year            0\n",
      "manufacturer    0\n",
      "model           0\n",
      "condition       0\n",
      "cylinders       0\n",
      "fuel            0\n",
      "odometer        0\n",
      "title_status    0\n",
      "transmission    0\n",
      "VIN             0\n",
      "drive           0\n",
      "size            0\n",
      "type            0\n",
      "paint_color     0\n",
      "state           0\n",
      "dtype: int64\n",
      "                 id          price          year      odometer\n",
      "count  3.249600e+04   32496.000000  32496.000000  3.249600e+04\n",
      "mean   7.311551e+09   16993.479013   2010.938269  1.089832e+05\n",
      "std    4.294195e+06   13219.394890      7.274987  1.022710e+05\n",
      "min    7.301592e+09       1.000000   1905.000000  0.000000e+00\n",
      "25%    7.308238e+09    7500.000000   2008.000000  6.744975e+04\n",
      "50%    7.312411e+09   13125.500000   2012.000000  1.055840e+05\n",
      "75%    7.315154e+09   23395.000000   2015.000000  1.428455e+05\n",
      "max    7.317099e+09  155000.000000   2022.000000  9.999999e+06\n"
     ]
    },
    {
     "data": {
      "image/png": "[encoded data removed]",
      "text/plain": [
       "<Figure size 640x480 with 1 Axes>"
      ]
     },
     "metadata": {},
     "output_type": "display_data"
    }
   ],
   "source": [
    "import matplotlib.pyplot as plt\n",
    "\n",
    "# 1. Check for missing values\n",
    "print(df.isnull().sum())\n",
    "\n",
    "# Delete rows where the 'price' is 0\n",
    "df = df[df['price'] != 0]\n",
    "\n",
    "# 4. Check for outliers\n",
    "print(df.describe())\n",
    "df.boxplot(column=['price'])\n",
    "plt.show()"
   ]
  },
  {
   "cell_type": "code",
   "execution_count": 29,
   "metadata": {},
   "outputs": [
    {
     "name": "stdout",
     "output_type": "stream",
     "text": [
      "['region', 'manufacturer', 'model', 'condition', 'cylinders', 'fuel', 'title_status', 'transmission', 'VIN', 'drive', 'size', 'type', 'paint_color', 'state']\n"
     ]
    }
   ],
   "source": [
    "# Select all categorical columns (typically columns with 'object' data type)\n",
    "categorical_columns = df.select_dtypes(include=['object']).columns.tolist()\n",
    "\n",
    "print(categorical_columns)"
   ]
  },
  {
   "cell_type": "code",
   "execution_count": 30,
   "metadata": {},
   "outputs": [
    {
     "name": "stdout",
     "output_type": "stream",
     "text": [
      "     odometer  year\n",
      "215    155000  2002\n",
      "219    110661  1995\n",
      "268     56700  2008\n",
      "337    164000  2011\n",
      "338     88100  1972\n",
      "            region  price  year   manufacturer            model  condition  \\\n",
      "215     birmingham   4000  2002         toyota             echo  excellent   \n",
      "219     birmingham   2500  1995            bmw             525i       fair   \n",
      "268     birmingham   9000  2008          mazda       miata mx-5  excellent   \n",
      "337     birmingham   8950  2011           ford            f-150  excellent   \n",
      "338     birmingham   4000  1972  mercedes-benz             benz       fair   \n",
      "...            ...    ...   ...            ...              ...        ...   \n",
      "426785     wyoming  23495  2015           ford     f150 xlt 4x4   like new   \n",
      "426788     wyoming  12995  2016      chevrolet         cruze lt   like new   \n",
      "426792     wyoming  32999  2014           ford        f350, xlt  excellent   \n",
      "426793     wyoming  15999  2018      chevrolet        cruze, lt  excellent   \n",
      "426833     wyoming   6800  1997         jaguar  xk8 convertible       good   \n",
      "\n",
      "          cylinders    fuel  odometer title_status transmission drive  \\\n",
      "215     4 cylinders     gas    155000        clean    automatic   fwd   \n",
      "219     6 cylinders     gas    110661        clean    automatic   rwd   \n",
      "268     4 cylinders     gas     56700        clean    automatic   rwd   \n",
      "337     6 cylinders     gas    164000        clean    automatic   fwd   \n",
      "338     6 cylinders     gas     88100        clean    automatic   rwd   \n",
      "...             ...     ...       ...          ...          ...   ...   \n",
      "426785  8 cylinders     gas    146795        clean    automatic   4wd   \n",
      "426788  4 cylinders     gas     61127        clean    automatic   fwd   \n",
      "426792  8 cylinders  diesel    154642        clean    automatic   4wd   \n",
      "426793  4 cylinders     gas     36465        clean    automatic   fwd   \n",
      "426833  8 cylinders     gas     69550        clean    automatic   rwd   \n",
      "\n",
      "             size         type paint_color state  \n",
      "215       compact        sedan        blue    al  \n",
      "219      mid-size        sedan       white    al  \n",
      "268       compact  convertible       white    al  \n",
      "337     full-size        truck       white    al  \n",
      "338     full-size        coupe      silver    al  \n",
      "...           ...          ...         ...   ...  \n",
      "426785  full-size        truck       black    wy  \n",
      "426788    compact        sedan      silver    wy  \n",
      "426792  full-size       pickup       brown    wy  \n",
      "426793   mid-size        sedan       black    wy  \n",
      "426833    compact  convertible       white    wy  \n",
      "\n",
      "[32496 rows x 16 columns]\n"
     ]
    }
   ],
   "source": [
    "# Convert 'odometer' and 'year' to integers\n",
    "df['odometer'] = pd.to_numeric(df['odometer'], errors='coerce').fillna(0).astype(int)\n",
    "df['year'] = pd.to_numeric(df['year'], errors='coerce').fillna(0).astype(int)\n",
    "\n",
    "# Delete the 'id' column from the DataFrame\n",
    "df = df.drop(columns=['id', 'VIN'])\n",
    "\n",
    "# Display the first few rows to verify the changes\n",
    "print(df[['odometer', 'year']].head())\n",
    "print(df)"
   ]
  },
  {
   "cell_type": "code",
   "execution_count": 31,
   "metadata": {},
   "outputs": [
    {
     "name": "stdout",
     "output_type": "stream",
     "text": [
      "         region  price  year   manufacturer       model  condition  \\\n",
      "215  birmingham   4000  2002         toyota        echo  excellent   \n",
      "219  birmingham   2500  1995            bmw        525i       fair   \n",
      "268  birmingham   9000  2008          mazda  miata mx-5  excellent   \n",
      "337  birmingham   8950  2011           ford       f-150  excellent   \n",
      "338  birmingham   4000  1972  mercedes-benz        benz       fair   \n",
      "\n",
      "       cylinders fuel  odometer title_status transmission drive       size  \\\n",
      "215  4 cylinders  gas    155000        clean    automatic   fwd    compact   \n",
      "219  6 cylinders  gas    110661        clean    automatic   rwd   mid-size   \n",
      "268  4 cylinders  gas     56700        clean    automatic   rwd    compact   \n",
      "337  6 cylinders  gas    164000        clean    automatic   fwd  full-size   \n",
      "338  6 cylinders  gas     88100        clean    automatic   rwd  full-size   \n",
      "\n",
      "            type paint_color state  \n",
      "215        sedan        blue    al  \n",
      "219        sedan       white    al  \n",
      "268  convertible       white    al  \n",
      "337        truck       white    al  \n",
      "338        coupe      silver    al  \n"
     ]
    }
   ],
   "source": [
    "# Display the first few rows to verify the changes to clean data\n",
    "df_cleaned = df\n",
    "print(df_cleaned.head())"
   ]
  },
  {
   "cell_type": "markdown",
   "metadata": {},
   "source": [
    "### Modeling\n",
    "\n",
    "With your (almost?) final dataset in hand, it is now time to build some models.  Here, you should build a number of different regression models with the price as the target.  In building your models, you should explore different parameters and be sure to cross-validate your findings."
   ]
  },
  {
   "cell_type": "code",
   "execution_count": 32,
   "metadata": {},
   "outputs": [],
   "source": [
    "# Prepare the Dataset\n",
    "from sklearn.model_selection import train_test_split\n",
    "\n",
    "# Assuming df_cleaned is your final cleaned dataset\n",
    "# Separate features and target\n",
    "X = df_cleaned.drop(columns=['price'])\n",
    "y = df_cleaned['price']"
   ]
  },
  {
   "cell_type": "code",
   "execution_count": 33,
   "metadata": {},
   "outputs": [],
   "source": [
    "# Convert categorical variables to dummy/indicator variables\n",
    "X = pd.get_dummies(X, drop_first=True)"
   ]
  },
  {
   "cell_type": "code",
   "execution_count": 34,
   "metadata": {},
   "outputs": [
    {
     "name": "stdout",
     "output_type": "stream",
     "text": [
      "                               Feature  Importance\n",
      "0                                 year    0.293556\n",
      "1                             odometer    0.108643\n",
      "5387             cylinders_8 cylinders    0.106974\n",
      "5390                          fuel_gas    0.074430\n",
      "5414                        type_truck    0.070579\n",
      "...                                ...         ...\n",
      "4019            model_rav4 awd 5 speed    0.000000\n",
      "3734         model_outback 3.6r ltd h6    0.000000\n",
      "255                   region_owensboro    0.000000\n",
      "2955               model_glc300 4matic    0.000000\n",
      "1675  model_cooper hardtop s baywaters    0.000000\n",
      "\n",
      "[5478 rows x 2 columns]\n"
     ]
    },
    {
     "data": {
      "text/plain": [
       "\"\\n# Set to display all rows\\npd.set_option('display.max_rows', None)\\n\\n# Now, when you print the DataFrame, all rows will be shown\\nprint(feature_importance_df) \""
      ]
     },
     "execution_count": 34,
     "metadata": {},
     "output_type": "execute_result"
    }
   ],
   "source": [
    "# Use of feature importance to identify features which contribute to variation\n",
    "\n",
    "from sklearn.ensemble import RandomForestRegressor\n",
    "import numpy as np\n",
    "\n",
    "# Fit a Random Forest model\n",
    "model = RandomForestRegressor(n_estimators=100, random_state=42)\n",
    "model.fit(X, y)\n",
    "\n",
    "# Get feature importances\n",
    "importances = model.feature_importances_\n",
    "\n",
    "# Create a DataFrame to view feature importances\n",
    "feature_importance_df = pd.DataFrame({\n",
    "    'Feature': X.columns,\n",
    "    'Importance': importances\n",
    "})\n",
    "\n",
    "# Sort by importance\n",
    "feature_importance_df = feature_importance_df.sort_values(by='Importance', ascending=False)\n",
    "\n",
    "# Print the most important features#\n",
    "print(feature_importance_df)\n",
    "'''\n",
    "# Set to display all rows\n",
    "pd.set_option('display.max_rows', None)\n",
    "\n",
    "# Now, when you print the DataFrame, all rows will be shown\n",
    "print(feature_importance_df) '''"
   ]
  },
  {
   "cell_type": "code",
   "execution_count": 35,
   "metadata": {},
   "outputs": [
    {
     "name": "stdout",
     "output_type": "stream",
     "text": [
      "Running Linear Regression...\n",
      "Model: LinearRegression\n",
      "Mean Absolute Error: 7012.495216619237\n",
      "R-Squared: 0.31903300221699127\n",
      "\n",
      "\n",
      "Running Ridge Regression...\n",
      "Model: Ridge\n",
      "Mean Absolute Error: 7012.639863417288\n",
      "R-Squared: 0.31903829407018036\n",
      "\n",
      "\n",
      "Running Lasso Regression...\n",
      "Model: Lasso\n",
      "Mean Absolute Error: 7012.810633390631\n",
      "R-Squared: 0.31904375489929315\n",
      "\n",
      "\n",
      "Running Decision Tree...\n",
      "Model: DecisionTreeRegressor\n",
      "Mean Absolute Error: 3646.7294956014075\n",
      "R-Squared: 0.6497043556118622\n",
      "\n",
      "\n",
      "Running Random Forest...\n",
      "Model: RandomForestRegressor\n",
      "Mean Absolute Error: 3573.8628454139175\n",
      "R-Squared: 0.7336476873802642\n",
      "\n",
      "\n"
     ]
    }
   ],
   "source": [
    "# Running various regression option for comparison\n",
    "\n",
    "from sklearn.model_selection import train_test_split\n",
    "from sklearn.linear_model import LinearRegression, Ridge, Lasso\n",
    "from sklearn.tree import DecisionTreeRegressor\n",
    "from sklearn.ensemble import RandomForestRegressor\n",
    "from sklearn.metrics import mean_absolute_error, r2_score\n",
    "\n",
    "\n",
    "# Verify the correct column names after encoding\n",
    "#print(\"Columns after one-hot encoding:\\n\", df_encoded.columns)\n",
    "\n",
    "# Select features and target (adjust the column names based on the actual names)\n",
    "X = X[['year', 'odometer', 'fuel_gas', 'cylinders_8 cylinders']]\n",
    "\n",
    "# Split the data into training and testing sets\n",
    "X_train, X_test, y_train, y_test = train_test_split(X, y, test_size=0.2, random_state=42)\n",
    "\n",
    "# Function to evaluate and display model performance\n",
    "def evaluate_model(model, X_train, X_test, y_train, y_test):\n",
    "    model.fit(X_train, y_train)\n",
    "    y_pred = model.predict(X_test)\n",
    "    mae = mean_absolute_error(y_test, y_pred)\n",
    "    r2 = r2_score(y_test, y_pred)\n",
    "    print(f\"Model: {model.__class__.__name__}\")\n",
    "    print(f\"Mean Absolute Error: {mae}\")\n",
    "    print(f\"R-Squared: {r2}\")\n",
    "    print(\"\\n\")\n",
    "\n",
    "# Define the models to evaluate\n",
    "models = {\n",
    "    'Linear Regression': LinearRegression(),\n",
    "    'Ridge Regression': Ridge(),\n",
    "    'Lasso Regression': Lasso(),\n",
    "    'Decision Tree': DecisionTreeRegressor(),\n",
    "    'Random Forest': RandomForestRegressor()\n",
    "}\n",
    "\n",
    "# Evaluate each model one by one\n",
    "for model_name, model in models.items():\n",
    "    print(f\"Running {model_name}...\")\n",
    "    evaluate_model(model, X_train, X_test, y_train, y_test)"
   ]
  },
  {
   "cell_type": "code",
   "execution_count": 36,
   "metadata": {},
   "outputs": [
    {
     "data": {
      "image/png": "[encoded data removed]",
      "text/plain": [
       "<Figure size 1000x600 with 1 Axes>"
      ]
     },
     "metadata": {},
     "output_type": "display_data"
    },
    {
     "name": "stdout",
     "output_type": "stream",
     "text": [
      "Mean Absolute Error: 3565.474760310454\n",
      "R-Squared: 0.7343771130052543\n"
     ]
    }
   ],
   "source": [
    "# Train the Random Forest model\n",
    "random_forest = RandomForestRegressor(random_state=42)\n",
    "random_forest.fit(X_train, y_train)\n",
    "\n",
    "# Make predictions on the test set\n",
    "y_pred = random_forest.predict(X_test)\n",
    "\n",
    "# Plotting the predicted prices versus the actual prices\n",
    "plt.figure(figsize=(10, 6))\n",
    "plt.scatter(y_test, y_pred, alpha=0.5)\n",
    "plt.title('Actual Price vs Predicted Price (Random Forest)')\n",
    "plt.xlabel('Actual Price')\n",
    "plt.ylabel('Predicted Price')\n",
    "plt.plot([min(y_test), max(y_test)], [min(y_test), max(y_test)], color='red', linestyle='--', linewidth=2)\n",
    "plt.show()\n",
    "\n",
    "# Print performance metrics\n",
    "mae = mean_absolute_error(y_test, y_pred)\n",
    "r2 = r2_score(y_test, y_pred)\n",
    "print(f\"Mean Absolute Error: {mae}\")\n",
    "print(f\"R-Squared: {r2}\")"
   ]
  },
  {
   "cell_type": "markdown",
   "metadata": {},
   "source": [
    "### Evaluation\n",
    "\n",
    "With some modeling accomplished, we aim to reflect on what we identify as a high quality model and what we are able to learn from this.  We should review our business objective and explore how well we can provide meaningful insight on drivers of used car prices.  Your goal now is to distill your findings and determine whether the earlier phases need revisitation and adjustment or if you have information of value to bring back to your client."
   ]
  },
  {
   "cell_type": "code",
   "execution_count": null,
   "metadata": {},
   "outputs": [],
   "source": [
    "'''\n",
    "Analysis of Model Performance\n",
    "The models have been evaluated on a dataset, and the results show how well each model performs in predicting the target variable (likely the price \n",
    "of used cars) based on the selected features (year, odometer, drive_fwd, fuel_diesel, cylinders_8). The key metrics evaluated are Mean Absolute Error \n",
    "(MAE) and R-Squared (R²).\n",
    "\n",
    "    1. Linear Regression\n",
    "Mean Absolute Error (MAE): 7012.50\n",
    "R-Squared (R²): 0.3190\n",
    "Interpretation:\n",
    "\n",
    "Linear Regression captures about 31.9% of the variance in the data, meaning it's not very effective at explaining the relationship between the \n",
    "features and the target variable. The high MAE indicates that the predictions are, on average, off by approximately $7,012.50, which is quite \n",
    "significant and suggests that a linear relationship may not be the best fit for this data.\n",
    "\n",
    "    2. Ridge Regression\n",
    "Mean Absolute Error (MAE): 7012.64\n",
    "R-Squared (R²): 0.3190\n",
    "Interpretation:\n",
    "\n",
    "Ridge Regression, which adds a penalty to the size of coefficients, performs almost identically to Linear Regression. This suggests that \n",
    "regularization (which Ridge provides) does not significantly improve model performance, indicating that the model might not be overfitting and that \n",
    "the linear assumption remains insufficient.\n",
    "\n",
    "    3. Lasso Regression\n",
    "Mean Absolute Error (MAE): 7012.81\n",
    "R-Squared (R²): 0.3190\n",
    "Interpretation:\n",
    "\n",
    "Lasso Regression, which can shrink some coefficients to zero (effectively performing feature selection), also provides similar results. This implies \n",
    "that no single feature dominates the predictions, and the linear model's limitations are likely due to the linear assumption rather than overfitting \n",
    "or irrelevant features.\n",
    "\n",
    "    4. Decision Tree\n",
    "Mean Absolute Error (MAE): 3661.09\n",
    "R-Squared (R²): 0.6410\n",
    "Interpretation:\n",
    "\n",
    "The Decision Tree model significantly outperforms the linear models, capturing about 64.1% of the variance in the data. The lower MAE of approximately\n",
    "$3,661.09 indicates that the model is much better at making accurate predictions. This improvement suggests that the relationships between the features\n",
    "and the target variable are likely non-linear, which the Decision Tree can capture.\n",
    "\n",
    "    5. Random Forest\n",
    "Mean Absolute Error (MAE): 3577.77\n",
    "R-Squared (R²): 0.7323\n",
    "Interpretation:\n",
    "\n",
    "The Random Forest model performs the best among all the models, capturing 73.23% of the variance and achieving the lowest MAE of approximately \n",
    "$3,577.77. Random Forest, which is an ensemble of multiple Decision Trees, further reduces errors by averaging out the predictions, making it the most\n",
    "reliable model in this scenario.\n",
    "Key Takeaways:\n",
    "\n",
    "Non-Linear Relationships: The significant improvement in performance from Linear Regression models to Decision Trees and Random Forests indicates \n",
    "that the relationship between the features and the target variable is non-linear.\n",
    "\n",
    "Model Suitability:\n",
    "\n",
    "Linear Models: Linear, Ridge, and Lasso Regression are not well-suited for this data, as they fail to capture the complexity of the relationships.\n",
    "Tree-Based Models: Decision Trees and, more effectively, Random Forests are much better suited for this dataset, as they capture non-linear interactions \n",
    "and provide better predictive accuracy.\n",
    "\n",
    "Recommendation:\n",
    "\n",
    "Given the results, Random Forest should be the preferred model for making predictions on this dataset. It offers the best balance between accuracy \n",
    "(as measured by R-Squared) and prediction error (as measured by MAE).Further optimization of the Random Forest model, such as tuning hyperparameters, might \n",
    "yield even better results.\n",
    "\n",
    "Insights for the Client:\n",
    "\n",
    "The Random Forest model indicates that certain non-linear factors (possibly interactions between features) are crucial in predicting the target variable.\n",
    "The dealership can trust the Random Forest model more for pricing predictions, but they should be aware that simple linear models will likely provide\n",
    "less accurate estimates due to the complexity of the relationships in the data.\n",
    "'''"
   ]
  },
  {
   "cell_type": "code",
   "execution_count": null,
   "metadata": {},
   "outputs": [],
   "source": [
    "'''\n",
    "Feature Importance Analysis\n",
    "Given the feature importances provided, we can analyze how each feature contributes to the prediction model, likely a Random Forest model. \n",
    "The feature importances represent how much each feature contributes to reducing the impurity in the model, i.e., how significant they are in predicting \n",
    "the target variable (e.g., car prices).\n",
    "\n",
    "Here are the features and their importances:\n",
    "Year: 0.293556\n",
    "Odometer: 0.108643\n",
    "Cylinders (8 cylinders): 0.106974\n",
    "Fuel (gas): 0.074430\n",
    "Type (truck): 0.070579\n",
    "\n",
    "1. Year (Importance: 0.293556)\n",
    "Interpretation: The manufacturing year of the vehicle is the most important feature in predicting the target variable, with a weight of approximately \n",
    "29.36%. This indicates that newer vehicles tend to have higher prices, which is consistent with industry standards where newer models are more valued \n",
    "than older ones.\n",
    "\n",
    "2. Odometer (Importance: 0.108643)\n",
    "Interpretation: The mileage of the car is the second most important feature, contributing around 10.86% to the model. Lower mileage typically \n",
    "indicates less wear and tear, making the car more valuable. This aligns with common market trends where vehicles with lower mileage command higher\n",
    "prices.\n",
    "\n",
    "3. Cylinders (8 cylinders) (Importance: 0.106974)\n",
    "Interpretation: The presence of an 8-cylinder engine is a significant feature, contributing about 10.70% to the model. This suggests that vehicles \n",
    "with more powerful engines (such as those with 8 cylinders) are valued higher, possibly due to performance preferences or specific market demands.\n",
    "\n",
    "4. Fuel (gas) (Importance: 0.074430)\n",
    "Interpretation: The fuel type, specifically gasoline, has a contribution of about 7.44% to the model. This might reflect the market's preference or \n",
    "the prevalence of gas-powered vehicles, which could be priced differently from diesel or electric vehicles.\n",
    "\n",
    "5. Type (truck) (Importance: 0.070579)\n",
    "Interpretation: The vehicle type, particularly trucks, contributes around 7.06% to the model. This indicates that trucks have a distinct impact on \n",
    "the pricing, which could be due to their utility, durability, and market demand.\n",
    "\n",
    "Insights and Recommendations\n",
    "\n",
    "\n",
    "The vehicle's year of manufacture is the most critical factor, strongly influencing the price. This suggests that the dealership should prioritize \n",
    "inventory that includes newer models to maximize potential pricing.\n",
    "\n",
    "Odometer and Condition:\n",
    "Mileage is another key driver of value. Vehicles with lower mileage should be highlighted in marketing and potentially priced higher. The condition \n",
    "tied to mileage (as represented by the odometer) is crucial in determining the car's value. Engine \n",
    "\n",
    "Power and Market Demand:\n",
    "Vehicles with more powerful engines (8 cylinders) have a noticeable impact on pricing. This reflects the market's valuation of performance vehicles, \n",
    "which could be emphasized in targeting specific customer segments.\n",
    "\n",
    "Fuel Type and Market Preferences:\n",
    "The preference for gasoline-powered vehicles suggests that market demand aligns with these types of engines. The dealership should consider the fuel \n",
    "type as a significant factor when assessing the potential resale value of vehicles.\n",
    "\n",
    "Vehicle Type (Truck):\n",
    "Trucks hold a distinct value in the market, potentially due to their utility and durability. This insight can help the dealership focus on stocking \n",
    "and promoting trucks, especially if their market caters to this type of vehicle.\n",
    "\n",
    "Conclusion\n",
    "              \n",
    "The feature importance analysis suggests that newer vehicles with lower mileage and specific attributes (like powerful engines and being a truck) are\n",
    "highly valued in the market. These insights should guide the dealership in optimizing inventory acquisition, pricing strategies, and marketing efforts.\n",
    "'''"
   ]
  },
  {
   "cell_type": "markdown",
   "metadata": {},
   "source": [
    "### Deployment\n",
    "\n",
    "Now that we've settled on our models and findings, it is time to deliver the information to the client.  You should organize your work as a basic report that details your primary findings.  Keep in mind that your audience is a group of used car dealers interested in fine tuning their inventory."
   ]
  },
  {
   "cell_type": "code",
   "execution_count": null,
   "metadata": {},
   "outputs": [],
   "source": [
    "'''\n",
    "Recommendation to car dealership\n",
    "\n",
    "The analysis suggests that newer vehicles with lower mileage and specific attributes (like powerful engines and trucks are highly valued in the market. These insights should guide the dealership in optimizing inventory acquisition, pricing strategies, and marketing efforts.\n",
    "\n",
    "Insights and Recommendations\n",
    "\n",
    "Given the car features provided below are the important feature contributes to growing sales. Here are the features and their importances:\n",
    "\n",
    "Year: 29.36%\n",
    "Odometer: 10.86%\n",
    "Cylinders (8 cylinders): 10.69%\n",
    "Fuel (gas): 7.44%\n",
    "Type (truck): 7.06%\n",
    "Rest of non-major features: 34.59%\n",
    "    \n",
    "Year as a Primary Driver: \n",
    "The vehicle's year of manufacture is the most critical factor, strongly influencing the price. This suggests that the dealership should prioritize \n",
    "inventory that includes newer models to maximize potential pricing.\n",
    "\n",
    "Odometer and Condition:\n",
    "Mileage is another key driver of value. Vehicles with lower mileage should be highlighted in marketing and potentially priced higher. The condition \n",
    "tied to mileage (as represented by the odometer) is crucial in determining the car's value. \n",
    "\n",
    "Power and Market Demand:\n",
    "Vehicles with more powerful engines (8 cylinders) have a noticeable impact on pricing. This reflects the market's valuation of performance vehicles, \n",
    "which could be emphasized in targeting specific customer segments.\n",
    "\n",
    "Fuel Type and Market Preferences:\n",
    "The preference for gasoline-powered vehicles suggests that market demand aligns with these types of engines. The dealership should consider the fuel \n",
    "type as a significant factor when assessing the potential resale value of vehicles.\n",
    "\n",
    "Vehicle Type (Truck):\n",
    "Trucks hold a distinct value in the market, potentially due to their utility and durability. This insight can help the dealership focus on stocking \n",
    "and promoting trucks, especially if their market caters to this type of vehicle.\n",
    "'''\n"
   ]
  },
  {
   "cell_type": "code",
   "execution_count": null,
   "metadata": {},
   "outputs": [],
   "source": []
  },
  {
   "cell_type": "code",
   "execution_count": null,
   "metadata": {},
   "outputs": [],
   "source": []
  },
  {
   "cell_type": "code",
   "execution_count": null,
   "metadata": {},
   "outputs": [],
   "source": []
  },
  {
   "cell_type": "code",
   "execution_count": null,
   "metadata": {},
   "outputs": [],
   "source": []
  },
  {
   "cell_type": "code",
   "execution_count": null,
   "metadata": {},
   "outputs": [],
   "source": []
  }
 ],
 "metadata": {
  "kernelspec": {
   "display_name": "Python 3 (ipykernel)",
   "language": "python",
   "name": "python3"
  },
  "language_info": {
   "codemirror_mode": {
    "name": "ipython",
    "version": 3
   },
   "file_extension": ".py",
   "mimetype": "text/x-python",
   "name": "python",
   "nbconvert_exporter": "python",
   "pygments_lexer": "ipython3",
   "version": "3.12.3"
  },
  "widgets": {
   "application/vnd.jupyter.widget-state+json": {
    "state": {},
    "version_major": 2,
    "version_minor": 0
   }
  }
 },
 "nbformat": 4,
 "nbformat_minor": 4
}
